{
 "cells": [
  {
   "cell_type": "code",
   "execution_count": 3,
   "metadata": {},
   "outputs": [],
   "source": [
    "import pandas as pd\n",
    "import numpy as np \n",
    "from sklearn.linear_model import LogisticRegression\n",
    "from sklearn.metrics import accuracy_score, confusion_matrix, classification_report, roc_auc_score, roc_curve, auc, recall_score, f1_score\n",
    "from sklearn.model_selection import GridSearchCV\n",
    "from sklearn.model_selection import TunedThresholdClassifierCV\n",
    "import matplotlib.pyplot as plt\n",
    "from sklearn.decomposition import PCA\n",
    "from sklearn.preprocessing import PolynomialFeatures, StandardScaler\n",
    "from sklearn.pipeline import Pipeline\n",
    "import sys\n",
    "import joblib\n",
    "\n",
    "sys.path.append('../src')\n",
    "\n",
    "from lib_aux import *\n",
    "from modeloClassificacao import ModeloClassificacao"
   ]
  },
  {
   "cell_type": "code",
   "execution_count": 4,
   "metadata": {},
   "outputs": [],
   "source": [
    "df_train = pd.read_parquet(\"../data/SOT/base_tratada_treino_sem_outliers.parquet\")\n",
    "df_test = pd.read_parquet(\"../data/SOT/base_tratada_teste.parquet\")\n",
    "df_val = pd.read_parquet(\"../data/SOT/base_validacao_nao_normalizada.parquet\")\n",
    "\n",
    "X_train = df_train.drop(columns=[\"id\", \"safra\", \"y\"])\n",
    "y_train = df_train[\"y\"]\n",
    "X_test = df_test.drop(columns=[\"id\", \"safra\", \"y\"])\n",
    "y_test = df_test[\"y\"]\n",
    "\n",
    "scaler = joblib.load(\"../artifacts/scaler.pkl\")\n",
    "\n",
    "X_total = pd.concat([X_train, X_test])\n",
    "X_total = scaler.inverse_transform(X_total)\n",
    "y_total = pd.concat([y_train, y_test])\n",
    "\n",
    "X_val = df_val.drop(columns=[\"id\", \"safra\", \"y\"])\n",
    "y_val = df_val[\"y\"]"
   ]
  },
  {
   "cell_type": "code",
   "execution_count": 7,
   "metadata": {},
   "outputs": [
    {
     "name": "stdout",
     "output_type": "stream",
     "text": [
      "Relatório de classificação: \n",
      "               precision    recall  f1-score   support\n",
      "\n",
      "           0       0.76      0.68      0.72       509\n",
      "           1       0.50      0.61      0.55       277\n",
      "\n",
      "    accuracy                           0.65       786\n",
      "   macro avg       0.63      0.64      0.63       786\n",
      "weighted avg       0.67      0.65      0.66       786\n",
      "\n",
      "Acurácia:  0.6513994910941476\n",
      "Recall:  0.6064981949458483\n",
      "F1 Score:  0.5508196721311476\n",
      "Matriz de confusão: \n",
      " [[344 165]\n",
      " [109 168]]\n"
     ]
    },
    {
     "name": "stderr",
     "output_type": "stream",
     "text": [
      "c:\\Users\\Leonardo\\anaconda3\\envs\\credit-score-challenge\\Lib\\site-packages\\sklearn\\utils\\validation.py:2732: UserWarning: X has feature names, but StandardScaler was fitted without feature names\n",
      "  warnings.warn(\n",
      "c:\\Users\\Leonardo\\anaconda3\\envs\\credit-score-challenge\\Lib\\site-packages\\sklearn\\utils\\validation.py:2732: UserWarning: X has feature names, but StandardScaler was fitted without feature names\n",
      "  warnings.warn(\n"
     ]
    }
   ],
   "source": [
    "modelo = ModeloClassificacao()\n",
    "\n",
    "modelo.fit(X_total, y_total)\n",
    "y_pred = modelo.predict(X_val)\n",
    "y_proba = modelo.predict_proba(X_val)\n",
    "\n",
    "print(\"Relatório de classificação: \\n\", classification_report(y_val, y_pred))\n",
    "print(\"Acurácia: \", accuracy_score(y_val, y_pred))\n",
    "print(\"Recall: \", recall_score(y_val, y_pred))\n",
    "print(\"F1 Score: \", f1_score(y_val, y_pred))\n",
    "# print(\"ROC AUC: \", roc_auc_score(y_val, y_proba))\n",
    "print(\"Matriz de confusão: \\n\", confusion_matrix(y_val, y_pred))"
   ]
  },
  {
   "cell_type": "code",
   "execution_count": 8,
   "metadata": {},
   "outputs": [
    {
     "data": {
      "text/plain": [
       "['../artifacts/modelo_teste.pkl']"
      ]
     },
     "execution_count": 8,
     "metadata": {},
     "output_type": "execute_result"
    }
   ],
   "source": [
    "joblib.dump(modelo, \"../artifacts/modelo_teste.pkl\")"
   ]
  },
  {
   "cell_type": "code",
   "execution_count": null,
   "metadata": {},
   "outputs": [
    {
     "data": {
      "text/plain": [
       "['../artifacts/modelo.pkl']"
      ]
     },
     "execution_count": 11,
     "metadata": {},
     "output_type": "execute_result"
    }
   ],
   "source": [
    "modelo = ModeloClassificacao()\n",
    "\n",
    "X_total_df = pd.DataFrame(X_total, columns=X_train.columns)\n",
    "\n",
    "X_completo = pd.concat([X_total_df, X_val])\n",
    "y_completo = pd.concat([y_total, y_val])\n",
    "\n",
    "modelo.fit(X_completo, y_completo)\n",
    "joblib.dump(modelo, \"../artifacts/modelo.pkl\")"
   ]
  },
  {
   "cell_type": "code",
   "execution_count": 16,
   "metadata": {},
   "outputs": [],
   "source": [
    "y_pred = modelo.predict(X_completo)\n",
    "y_proba = modelo.predict_proba(X_completo)"
   ]
  },
  {
   "cell_type": "code",
   "execution_count": 17,
   "metadata": {},
   "outputs": [
    {
     "data": {
      "text/plain": [
       "array([0.18127899, 0.46135249, 0.82589675, ..., 0.7177042 , 0.36237621,\n",
       "       0.38413972], shape=(10312,))"
      ]
     },
     "execution_count": 17,
     "metadata": {},
     "output_type": "execute_result"
    }
   ],
   "source": [
    "prob_1 = y_proba[:, 1]\n",
    "prob_1"
   ]
  },
  {
   "cell_type": "code",
   "execution_count": 25,
   "metadata": {},
   "outputs": [],
   "source": [
    "df_pred = pd.concat([df_train[[\"id\", \"safra\", \"y\"]],\n",
    "          df_test[[\"id\", \"safra\", \"y\"]],\n",
    "           df_val[[\"id\", \"safra\", \"y\"]]])\n",
    "\n",
    "df_pred[\"y_pred\"] = y_pred\n",
    "df_pred[\"y_proba\"] = prob_1"
   ]
  },
  {
   "cell_type": "code",
   "execution_count": 26,
   "metadata": {},
   "outputs": [
    {
     "data": {
      "text/html": [
       "<div>\n",
       "<style scoped>\n",
       "    .dataframe tbody tr th:only-of-type {\n",
       "        vertical-align: middle;\n",
       "    }\n",
       "\n",
       "    .dataframe tbody tr th {\n",
       "        vertical-align: top;\n",
       "    }\n",
       "\n",
       "    .dataframe thead th {\n",
       "        text-align: right;\n",
       "    }\n",
       "</style>\n",
       "<table border=\"1\" class=\"dataframe\">\n",
       "  <thead>\n",
       "    <tr style=\"text-align: right;\">\n",
       "      <th></th>\n",
       "      <th>id</th>\n",
       "      <th>safra</th>\n",
       "      <th>y</th>\n",
       "      <th>y_pred</th>\n",
       "      <th>y_proba</th>\n",
       "    </tr>\n",
       "  </thead>\n",
       "  <tbody>\n",
       "    <tr>\n",
       "      <th>0</th>\n",
       "      <td>1.0</td>\n",
       "      <td>201404</td>\n",
       "      <td>0</td>\n",
       "      <td>0</td>\n",
       "      <td>0.181279</td>\n",
       "    </tr>\n",
       "    <tr>\n",
       "      <th>1</th>\n",
       "      <td>2.0</td>\n",
       "      <td>201407</td>\n",
       "      <td>0</td>\n",
       "      <td>0</td>\n",
       "      <td>0.461352</td>\n",
       "    </tr>\n",
       "    <tr>\n",
       "      <th>2</th>\n",
       "      <td>3.0</td>\n",
       "      <td>201405</td>\n",
       "      <td>0</td>\n",
       "      <td>1</td>\n",
       "      <td>0.825897</td>\n",
       "    </tr>\n",
       "    <tr>\n",
       "      <th>3</th>\n",
       "      <td>5.0</td>\n",
       "      <td>201403</td>\n",
       "      <td>1</td>\n",
       "      <td>1</td>\n",
       "      <td>0.633286</td>\n",
       "    </tr>\n",
       "    <tr>\n",
       "      <th>4</th>\n",
       "      <td>6.0</td>\n",
       "      <td>201405</td>\n",
       "      <td>0</td>\n",
       "      <td>1</td>\n",
       "      <td>0.708000</td>\n",
       "    </tr>\n",
       "    <tr>\n",
       "      <th>...</th>\n",
       "      <td>...</td>\n",
       "      <td>...</td>\n",
       "      <td>...</td>\n",
       "      <td>...</td>\n",
       "      <td>...</td>\n",
       "    </tr>\n",
       "    <tr>\n",
       "      <th>781</th>\n",
       "      <td>10679.0</td>\n",
       "      <td>201412</td>\n",
       "      <td>1</td>\n",
       "      <td>0</td>\n",
       "      <td>0.451155</td>\n",
       "    </tr>\n",
       "    <tr>\n",
       "      <th>782</th>\n",
       "      <td>10691.0</td>\n",
       "      <td>201412</td>\n",
       "      <td>0</td>\n",
       "      <td>0</td>\n",
       "      <td>0.245052</td>\n",
       "    </tr>\n",
       "    <tr>\n",
       "      <th>783</th>\n",
       "      <td>10699.0</td>\n",
       "      <td>201412</td>\n",
       "      <td>0</td>\n",
       "      <td>1</td>\n",
       "      <td>0.717704</td>\n",
       "    </tr>\n",
       "    <tr>\n",
       "      <th>784</th>\n",
       "      <td>10706.0</td>\n",
       "      <td>201412</td>\n",
       "      <td>0</td>\n",
       "      <td>0</td>\n",
       "      <td>0.362376</td>\n",
       "    </tr>\n",
       "    <tr>\n",
       "      <th>785</th>\n",
       "      <td>10727.0</td>\n",
       "      <td>201412</td>\n",
       "      <td>0</td>\n",
       "      <td>0</td>\n",
       "      <td>0.384140</td>\n",
       "    </tr>\n",
       "  </tbody>\n",
       "</table>\n",
       "<p>10312 rows × 5 columns</p>\n",
       "</div>"
      ],
      "text/plain": [
       "          id   safra  y  y_pred   y_proba\n",
       "0        1.0  201404  0       0  0.181279\n",
       "1        2.0  201407  0       0  0.461352\n",
       "2        3.0  201405  0       1  0.825897\n",
       "3        5.0  201403  1       1  0.633286\n",
       "4        6.0  201405  0       1  0.708000\n",
       "..       ...     ... ..     ...       ...\n",
       "781  10679.0  201412  1       0  0.451155\n",
       "782  10691.0  201412  0       0  0.245052\n",
       "783  10699.0  201412  0       1  0.717704\n",
       "784  10706.0  201412  0       0  0.362376\n",
       "785  10727.0  201412  0       0  0.384140\n",
       "\n",
       "[10312 rows x 5 columns]"
      ]
     },
     "execution_count": 26,
     "metadata": {},
     "output_type": "execute_result"
    }
   ],
   "source": [
    "df_pred"
   ]
  },
  {
   "cell_type": "code",
   "execution_count": 27,
   "metadata": {},
   "outputs": [],
   "source": [
    "df_pred.to_parquet(\"../data/SPEC/base_predita_completa.parquet\", index = False)"
   ]
  },
  {
   "cell_type": "code",
   "execution_count": null,
   "metadata": {},
   "outputs": [],
   "source": []
  }
 ],
 "metadata": {
  "kernelspec": {
   "display_name": "credit-score-challenge",
   "language": "python",
   "name": "python3"
  },
  "language_info": {
   "codemirror_mode": {
    "name": "ipython",
    "version": 3
   },
   "file_extension": ".py",
   "mimetype": "text/x-python",
   "name": "python",
   "nbconvert_exporter": "python",
   "pygments_lexer": "ipython3",
   "version": "3.13.1"
  }
 },
 "nbformat": 4,
 "nbformat_minor": 2
}
